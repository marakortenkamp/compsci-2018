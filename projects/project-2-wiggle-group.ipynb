{
 "cells": [
  {
   "cell_type": "code",
   "execution_count": null,
   "metadata": {},
   "outputs": [],
   "source": [
    "%matplotlib inline\n",
    "import numpy as np\n",
    "import matplotlib.pyplot as plt\n",
    "\n",
    "# init the constants and initial p, q\n",
    "N = 30\n",
    "k = 50.\n",
    "g = 9.81\n",
    "y0 = 40.\n",
    "#m = np.ones(N)\n",
    "xs = np.arange(N)\n",
    "ys = np.array([y0] * N)\n",
    "q0 = np.vstack((xs, ys)).T\n",
    "p0 = np.zeros((N, 2))"
   ]
  },
  {
   "cell_type": "code",
   "execution_count": null,
   "metadata": {},
   "outputs": [],
   "source": [
    "# for energies and gradient calc\n",
    "# forget about the ground\n",
    "'''def gravity(y):\n",
    "    if(y >= 0):\n",
    "        return g*y\n",
    "    else:\n",
    "        return 1e20'''\n",
    "def gravity(y):\n",
    "    \"\"\"Calculate the gravity potential for unit mass at height y.\"\"\"\n",
    "    return g*y\n",
    "\n",
    "def lengths(xs, ys):\n",
    "    \"\"\"Return the rope lengths as an nparray of length (n-1).\"\"\"\n",
    "    xdiff = xs[1:] - xs[:-1]\n",
    "    ydiff = ys[1:] - ys[:-1]\n",
    "    return np.sqrt(np.square(xdiff) + np.square(ydiff))\n",
    "\n",
    "def potential(q, m = 1):\n",
    "    \"\"\"Return the potential of the system.\"\"\"\n",
    "    xs, ys = q[:, 0], q[:, 1]\n",
    "    ls = lengths(xs, ys)\n",
    "    return (np.vectorize(gravity)(ys) * m).sum() + k * np.square(ls - 1).sum()\n",
    "\n",
    "def kinetic(p, m = 1):\n",
    "    \"\"\"Return the kinetic energy of the system.\"\"\"\n",
    "    return (np.square(p)/m).sum() / 2\n",
    "\n",
    "# gradients\n",
    "def potential_grad(q, m = 1):\n",
    "    \"\"\"\n",
    "    Return the gradient of the potential of system,\n",
    "        with fixed end balls (by setting F on them to 0).\n",
    "    \"\"\"\n",
    "    if(np.shape(m) == ()):\n",
    "        m = m * np.ones(N)\n",
    "    xs, ys = q[:, 0], q[:, 1]\n",
    "    grad = np.zeros((N, 2))\n",
    "    ls = lengths(xs, ys)\n",
    "    delta_ls = ls - 1\n",
    "    xdiff = xs[1:] - xs[:-1]\n",
    "    ydiff = ys[1:] - ys[:-1]\n",
    "    grad[1:-1, 0] = 2 * k * delta_ls[:-1] * xdiff[:-1] / ls[:-1] - 2 * k * delta_ls[1:] * xdiff[1:] / ls[1:]\n",
    "    grad[1:-1, 1] = 2 * k * delta_ls[:-1] * ydiff[:-1] / ls[:-1] - 2 * k * delta_ls[1:] * ydiff[1:] / ls[1:] + m[1:-1] * g\n",
    "    #for i in range(1, 29):\n",
    "    #    grad[i, 0] = 2*k*(ls[i-1] - 1)*(xs[i]-xs[i-1])/ls[i-1] + 2*k*(ls[i] - 1)*(xs[i]-xs[i+1])/ls[i]\n",
    "    #    grad[i, 1] = m[i] * g + 2*k*(ls[i-1] - 1)*(ys[i]-ys[i-1])/ls[i-1] + 2*k*(ls[i] - 1)*(ys[i]-ys[i+1])/ls[i]\n",
    "    return grad"
   ]
  },
  {
   "cell_type": "code",
   "execution_count": null,
   "metadata": {},
   "outputs": [],
   "source": [
    "def vv(potenital_grad, steps, q0, p0, m = 1, timestep = 0.01):\n",
    "    \"\"\"Velocity Verlet for autonomous system (pot_grad only a function of q).\"\"\"\n",
    "    halfstep = timestep / 2\n",
    "    vec_shape = (steps + 1, q0.shape[0], q0.shape[1])\n",
    "    qs = np.zeros(vec_shape)\n",
    "    ps = np.zeros(vec_shape)\n",
    "    qs[0], ps[0] = q0, p0\n",
    "    potg = potenital_grad(qs[0])\n",
    "    for i in range(1, steps + 1):\n",
    "        p_temp = ps[i - 1] - potg * halfstep\n",
    "        qs[i] = qs[i - 1] + p_temp / m * timestep\n",
    "        potg = potenital_grad(qs[i])\n",
    "        ps[i] = p_temp - potg * halfstep\n",
    "    return qs, ps"
   ]
  },
  {
   "cell_type": "code",
   "execution_count": null,
   "metadata": {},
   "outputs": [],
   "source": [
    "size = 2000\n",
    "qx, px = vv(potential_grad, size, q0, p0, timestep = 0.005)"
   ]
  },
  {
   "cell_type": "code",
   "execution_count": null,
   "metadata": {},
   "outputs": [],
   "source": [
    "%matplotlib notebook\n",
    "fig = plt.figure()\n",
    "ax = fig.add_subplot(111)\n",
    "plt.ion()\n",
    "fig.show()\n",
    "fig.canvas.draw()\n",
    "ax.set_ylim([0., y0 + 2])\n",
    "ax.set_xlabel('x / m')\n",
    "ax.set_ylabel('y / m')\n",
    "scat = ax.scatter(qx[0, :, 0], qx[0, :, 1])\n",
    "for i in range(1, 500):\n",
    "    scat.remove()    \n",
    "    scat = ax.scatter(qx[4 * i, :, 0], qx[4 * i, :, 1], color = 'b')\n",
    "    fig.canvas.draw()"
   ]
  },
  {
   "cell_type": "code",
   "execution_count": null,
   "metadata": {},
   "outputs": [],
   "source": [
    "# Plot the energies in every step\n",
    "E_p = np.zeros(size + 1)\n",
    "E_k = np.zeros(size + 1)\n",
    "for i in range(size + 1):\n",
    "    E_p[i], E_k[i] = potential(qx[i]), kinetic(px[i])\n",
    "E = E_p + E_k\n",
    "times = 0.01 * np.arange(size + 1)\n",
    "%matplotlib inline\n",
    "plt.plot(times, E_p, color = 'm', label = 'potential')\n",
    "plt.plot(times, E_k, color = 'g', label = 'kinetic')\n",
    "plt.plot(times, E, color = 'b', label = 'total')\n",
    "plt.ylabel('Energy / a.u.')\n",
    "plt.xlabel('time / s')\n",
    "plt.legend()"
   ]
  },
  {
   "cell_type": "code",
   "execution_count": null,
   "metadata": {},
   "outputs": [],
   "source": []
  }
 ],
 "metadata": {
  "kernelspec": {
   "display_name": "Python 3",
   "language": "python",
   "name": "python3"
  },
  "language_info": {
   "codemirror_mode": {
    "name": "ipython",
    "version": 3
   },
   "file_extension": ".py",
   "mimetype": "text/x-python",
   "name": "python",
   "nbconvert_exporter": "python",
   "pygments_lexer": "ipython3",
   "version": "3.7.0"
  }
 },
 "nbformat": 4,
 "nbformat_minor": 2
}
